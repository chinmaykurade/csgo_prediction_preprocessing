{
 "cells": [
  {
   "cell_type": "code",
   "execution_count": 1,
   "metadata": {},
   "outputs": [],
   "source": [
    "import pandas as pd\n",
    "import pickle\n",
    "import os\n",
    "import numpy as np"
   ]
  },
  {
   "cell_type": "code",
   "execution_count": 2,
   "metadata": {},
   "outputs": [],
   "source": [
    "def get_accuracy(df_in,df_out):\n",
    "    input_data = np.array(df_in['round_winner'].apply(lambda x:0 if x == 'CT' else 1))\n",
    "    output_data = np.array(df_out['round_winner'].apply(lambda x:0 if x == 'CT' else 1))\n",
    "    res = np.mean((input_data==output_data)*1)\n",
    "    print(np.mean(input_data),np.mean(output_data))\n",
    "    return res"
   ]
  },
  {
   "cell_type": "code",
   "execution_count": 28,
   "metadata": {},
   "outputs": [
    {
     "name": "stdout",
     "output_type": "stream",
     "text": [
      "D:/Code/csgo_prediction/datasets/dataset_initial/dataset_00.json\n",
      "D:/Code/csgo_prediction/datasets/dataset_initial/dataset_01.json\n",
      "D:/Code/csgo_prediction/datasets/dataset_initial/dataset_02.json\n",
      "D:/Code/csgo_prediction/datasets/dataset_initial/dataset_03.json\n",
      "D:/Code/csgo_prediction/datasets/dataset_initial/dataset_04.json\n",
      "D:/Code/csgo_prediction/datasets/dataset_initial/dataset_05.json\n",
      "D:/Code/csgo_prediction/datasets/dataset_initial/dataset_06.json\n",
      "D:/Code/csgo_prediction/datasets/dataset_initial/dataset_07.json\n",
      "D:/Code/csgo_prediction/datasets/dataset_initial/dataset_08.json\n",
      "D:/Code/csgo_prediction/datasets/dataset_initial/dataset_09.json\n",
      "D:/Code/csgo_prediction/datasets/dataset_initial/dataset_10.json\n",
      "D:/Code/csgo_prediction/datasets/dataset_initial/dataset_11.json\n",
      "D:/Code/csgo_prediction/datasets/dataset_initial/dataset_12.json\n",
      "D:/Code/csgo_prediction/datasets/dataset_initial/dataset_13.json\n",
      "D:/Code/csgo_prediction/datasets/dataset_initial/dataset_14.json\n",
      "D:/Code/csgo_prediction/datasets/dataset_initial/dataset_15.json\n",
      "D:/Code/csgo_prediction/datasets/dataset_initial/dataset_16.json\n",
      "D:/Code/csgo_prediction/datasets/dataset_initial/dataset_17.json\n",
      "D:/Code/csgo_prediction/datasets/dataset_initial/dataset_18.json\n",
      "D:/Code/csgo_prediction/datasets/dataset_initial/dataset_19.json\n",
      "D:/Code/csgo_prediction/datasets/dataset_initial/dataset_20.json\n",
      "D:/Code/csgo_prediction/datasets/dataset_initial/dataset_21.json\n",
      "D:/Code/csgo_prediction/datasets/dataset_initial/dataset_22.json\n",
      "D:/Code/csgo_prediction/datasets/dataset_initial/dataset_23.json\n",
      "D:/Code/csgo_prediction/datasets/dataset_initial/dataset_24.json\n"
     ]
    }
   ],
   "source": [
    "for i in range(25):\n",
    "    input_path = 'D:/Code/csgo_prediction/datasets/dataset_initial/dataset_{:02}.json'.format(i)\n",
    "    print(input_path)\n",
    "    output_path = 'datasets/results/dataset_{:02}.json'.format(i)\n",
    "    !D:/Code/csgo_prediction/final_submission/run.sh $input_path $output_path"
   ]
  },
  {
   "cell_type": "code",
   "execution_count": 8,
   "metadata": {},
   "outputs": [
    {
     "name": "stdout",
     "output_type": "stream",
     "text": [
      "0.540742195169841 0.5387787158845474\n",
      "Accuracy for 0th dataset = 0.9921460828588259\n",
      "0.49670461354104256 0.49610545236668663\n",
      "Accuracy for 2th dataset = 0.9930097862991811\n",
      "0.49646920360925856 0.4947038054138878\n",
      "Accuracy for 9th dataset = 0.9935268732836406\n",
      "0.5239672642244739 0.5227981293842556\n",
      "Accuracy for 13th dataset = 0.9961028838659393\n",
      "0.500294521892794 0.5020616532495582\n",
      "Accuracy for 20th dataset = 0.9946986059297075\n",
      "0.4775079197465681 0.480675818373812\n",
      "Accuracy for 24th dataset = 0.9926082365364308\n"
     ]
    }
   ],
   "source": [
    "for i in [0,2,9,13,20,24]:\n",
    "    input_path = 'datasets/dataset_initial/dataset_{:02}.json'.format(i)\n",
    "    output_path = 'datasets/ubr/results/result_{:02}.json'.format(i)\n",
    "    df_in = pd.read_json(input_path)\n",
    "    df_out = pd.read_json(output_path)\n",
    "    print(\"Accuracy for {}th dataset = {}\".format(i,get_accuracy(df_in,df_out)))"
   ]
  },
  {
   "cell_type": "code",
   "execution_count": 9,
   "metadata": {},
   "outputs": [
    {
     "name": "stdout",
     "output_type": "stream",
     "text": [
      "0.540742195169841 0.5387787158845474\n",
      "Accuracy for 0th dataset = 0.9921460828588259\n",
      "0.552212389380531 0.5482792527040314\n",
      "Accuracy for 1th dataset = 0.9941002949852508\n",
      "0.49670461354104256 0.49610545236668663\n",
      "Accuracy for 2th dataset = 0.9930097862991811\n",
      "0.547085201793722 0.5439656853187755\n",
      "Accuracy for 3th dataset = 0.996100604406317\n",
      "0.47563123899001764 0.4750440399295361\n",
      "Accuracy for 4th dataset = 0.9974554707379135\n",
      "0.5115686274509804 0.5107843137254902\n",
      "Accuracy for 5th dataset = 0.9984313725490196\n",
      "0.5049251379038613 0.5027580772261623\n",
      "Accuracy for 6th dataset = 0.9970449172576832\n",
      "0.4910852713178295 0.49050387596899225\n",
      "Accuracy for 7th dataset = 0.9967054263565891\n",
      "0.5039875510601051 0.5020424042015172\n",
      "Accuracy for 8th dataset = 0.9980548531414122\n",
      "0.49646920360925856 0.4947038054138878\n",
      "Accuracy for 9th dataset = 0.9935268732836406\n",
      "0.5304245744472706 0.5225983173547251\n",
      "Accuracy for 10th dataset = 0.9733907258853454\n",
      "0.47724550898203594 0.47724550898203594\n",
      "Accuracy for 11th dataset = 0.9940119760479041\n",
      "0.5061975209916033 0.5051979208316674\n",
      "Accuracy for 12th dataset = 0.9966013594562175\n",
      "0.5239672642244739 0.5227981293842556\n",
      "Accuracy for 13th dataset = 0.9961028838659393\n",
      "0.48579267097785617 0.48481285518322553\n",
      "Accuracy for 14th dataset = 0.9962766999804037\n",
      "0.5517241379310345 0.5497648902821317\n",
      "Accuracy for 15th dataset = 0.9933385579937304\n",
      "0.5009765625 0.49765625\n",
      "Accuracy for 16th dataset = 0.9943359375\n",
      "0.411231884057971 0.42028985507246375\n",
      "Accuracy for 17th dataset = 0.9510869565217391\n",
      "0.512133072407045 0.5146771037181996\n",
      "Accuracy for 18th dataset = 0.9923679060665362\n",
      "0.5199214916584887 0.5157998037291462\n",
      "Accuracy for 19th dataset = 0.9947006869479882\n",
      "0.500294521892794 0.5020616532495582\n",
      "Accuracy for 20th dataset = 0.9946986059297075\n",
      "0.5093290988487496 0.5099245732433505\n",
      "Accuracy for 21th dataset = 0.9914648670107186\n",
      "0.5016761979885624 0.5004929994084008\n",
      "Accuracy for 22th dataset = 0.9932952080457503\n",
      "0.525506230529595 0.5237538940809969\n",
      "Accuracy for 23th dataset = 0.995132398753894\n",
      "0.4775079197465681 0.480675818373812\n",
      "Accuracy for 24th dataset = 0.9926082365364308\n"
     ]
    }
   ],
   "source": [
    "for i in range(25):\n",
    "    input_path = 'datasets/dataset_initial/dataset_{:02}.json'.format(i)\n",
    "    output_path = 'datasets/results/dataset_{:02}.json'.format(i)\n",
    "    df_in = pd.read_json(input_path)\n",
    "    df_out = pd.read_json(output_path)\n",
    "    print(\"Accuracy for {}th dataset = {}\".format(i,get_accuracy(df_in,df_out)))"
   ]
  },
  {
   "cell_type": "code",
   "execution_count": null,
   "metadata": {},
   "outputs": [],
   "source": []
  }
 ],
 "metadata": {
  "kernelspec": {
   "display_name": "Python 3",
   "language": "python",
   "name": "python3"
  },
  "language_info": {
   "codemirror_mode": {
    "name": "ipython",
    "version": 3
   },
   "file_extension": ".py",
   "mimetype": "text/x-python",
   "name": "python",
   "nbconvert_exporter": "python",
   "pygments_lexer": "ipython3",
   "version": "3.7.4"
  }
 },
 "nbformat": 4,
 "nbformat_minor": 4
}
